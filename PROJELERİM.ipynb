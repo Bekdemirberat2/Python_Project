#Sayı Tahmin Oyunu
import random
dogrunumara=random.randint(1,100)
print("Sayı Tahmin Oyununa Hoşgeldiniz")
print("1 ile 100 arasında bir sayı tahmin edin")
print("Tahmininiz doğruysa tebrikler, yanlışsa kalan hakkınızdan 1 eksilir")
print("Her yanlış tahminde 10 puan kaybedersiniz")
print("10 hakkınız var")

hak=10
deneme=0
skor=100

while(hak>0):
  sayitahmin=int(input("Bir sayı tahmin et: "))
  if(sayitahmin<1 or sayitahmin>100):
    print("Lütfen 1 ile 100 arasında bir sayı girin")
    continue
  if(sayitahmin==dogrunumara):
    print("Tebrikler doğru bildiniz")
    break
  if(sayitahmin<dogrunumara):
    print("Tahmininiz doğru değil,daha büyük bir sayı deneyin")
  if(sayitahmin>dogrunumara):
    print("Tahmininiz doğru değil,daha küçük bir sayı deneyin")
  if(sayitahmin != dogrunumara):
    print("Maalesef sayıyı yanlış bildiniz")
    hak-=1
    deneme+=1
    skor-=10
    print(f"Kalan hakkınız: {hak}")
    print(f"{deneme} deneme yaptınız.")
    print(f"Kalan Skorunuz:{skor}")
if(hak==0):
   print("Hakkınız kalmadı, oyunu kaybettiniz")
   print(f"Doğru sayı:{dogrunumara}")


#Hesap Makinesi
# Kullanıcıdan iki sayı ve işlem türünü alır
# ve sonucu ekrana yazdırır.
# Kullanıcıdan iki sayı alır
from math import sqrt,factorial
sayi1 = float(input("Birinci sayıyı girin: "))
sayi2 = float(input("İkinci sayıyı girin: "))

while(True):
    print("1. Toplama")
    print("2. Çıkarma")
    print("3. Çarpma")
    print("4. Bölme")
    print("5. Karekökünü alma")
    print("6. Karesini alma")
    print("7. Faktöriyel alma")
    print("8. Kuvvetini alma")
    print("9. Çıkış")
    islem= input("Yapmak istediğiniz işlemi seçin (1-9): ")
    if islem not in ['1','2','3','4','5','6','7','8','9']:
        print("Geçersiz işlem. Lütfen 1-9 arasında bir sayı giriniz")
    if islem == '1':
        sonuc = sayi1 + sayi2
        print(int(sayi1),int(sayi2),"toplamı: ", sonuc)
    if islem == '2':
        sonuc = sayi1 - sayi2
        print(int(sayi1),int(sayi2),"kalanı: ", sonuc)

        sonuc2 = sayi2 - sayi1
        print(int(sayi2),int(sayi1),"kalanı: ", sonuc2)

    if islem == '3':
        sonuc = sayi1 * sayi2
        print(int(sayi1),int(sayi2),"çarpımı: ", sonuc)
    if islem == '4':
        if sayi2 != 0:
            sonuc = sayi1 / sayi2
            print(int(sayi1),int(sayi2),"bölümü: ", sonuc)
        else:
            print("Bir sayıyı sıfıra bölemezsiniz.")
        if sayi1 != 0:
            sonuc = sayi2 / sayi1
            print(int(sayi2),int(sayi1),"bölümü: ", sonuc)
    if islem == '5':
        if sayi1 >= 0:
            sonuc = sqrt(sayi1)
            print(int(sayi1),"karekökü: ", sonuc)
        if sayi2 >= 0:
            sonuc = sqrt(sayi2)
            print(int(sayi2),"karekökü: ", sonuc)
    if islem == '6':
        if sayi1 >= 0:
            sonuc = sayi1 ** 2
            print(int(sayi1),"karesi: ", sonuc)
        if sayi2 >= 0:
            sonuc = sayi2 ** 2
            print(int(sayi2),"karesi: ", sonuc)
    if islem == '7':
        if sayi1==0 or sayi1==1:
            sonuc = 1
        elif sayi1 < 0:
            print("Negatif sayının faktöriyeli tanımsızdır.")
        else:
            sonuc=factorial(int(sayi1))
            print(int(sayi1),"faktöriyeli: ",sonuc)
        if sayi2==0 or sayi2==1:
            sonuc = 1
        elif sayi2 < 0:
            print("Negatif sayının faktöriyeli tanımsızdır.")
        else:
            sonuc = factorial(int(sayi2))
            print(int(sayi2),"faktöriyeli: ",sonuc)
    if islem == '8':
        sonuc=pow(sayi1, sayi2)
        print(int(sayi1),int(sayi2),"kuvveti: ", sonuc)

        sonuc2=pow(sayi2, sayi1)
        print(int(sayi2),int(sayi1),"kuvveti: ", sonuc2)
    if islem == '9':
        print("Çıkılıyor...")
        break


#Döviz çevirisi
#Kullanıcıdan bir değer alır.
#Döviz karşılığını ekrana yazdırır.
dolar_kuru=38.97
euro_kuru=44.34
sterlin_kuru=52.86
tl_dolar=0.026
tl_euro=0.022
tl_sterlin=0.019
while(True):
    print("1. Dolar-Tl")
    print("2. Euro-Tl")
    print("3. Sterlin-Tl")
    print("4. Tl-Dolar")
    print("5. Tl-Euro")
    print("6. Tl-Sterlin")
    print("7. Çıkış")
    miktar=float(input("Miktarı girin: "))
    if miktar == -1:
      break
    if miktar==0:
        print("Miktar sıfır olamaz.Lütfen tekrar deneyiniz.")
        continue
    if miktar<-1:
        print("Miktar negatif olamaz.Lütfen tekrar deneyiniz.")
        continue
    islem= input("Yapmak istediğiniz işlemi seçin (1-7): ")
    if islem not in ['1','2','3','4','5','6','7']:
        print("Geçersiz işlem. Lütfen 1-7 arasında bir sayı giriniz")
    elif islem == "1":
        sonuc=miktar*dolar_kuru
        print(f"{miktar} Dolar={sonuc} Tl")
    elif islem == "2":
        sonuc=miktar*euro_kuru
        print(f"{miktar} Euro={sonuc} Tl")
    elif islem == "3":
        sonuc=miktar*sterlin_kuru
        print(f"{miktar} Sterlin={sonuc} Tl")
    elif islem == "4":
        sonuc=miktar*tl_dolar
        print(f"{miktar} Tl={sonuc} Dolar")
    elif islem == "5":
        sonuc=miktar*tl_euro
        print(f"{miktar} Tl={sonuc} Euro")
    elif islem == "6":
        sonuc=miktar*tl_sterlin
        print(f"{miktar} Tl={sonuc} Sterlin")
    elif islem == "7":
        print("Çıkılıyor...")
        break

# Basit Metin Analiz Aracı
print("Analiz edilecek metin dosyasının yolunu girin.")
# Kullanıcıdan dosya yolunu al
metin = input("Lütfen analiz edilecek metin dosyasının yolunu girin: ")
# Dosya yolunun boş olup olmadığını kontrol et
# Eğer boşsa, kullanıcıya hata mesajı göster
# ve programı sonlandır
if metin == "":
    print("Dosya yolu boş, lütfen geçerli bir dosya yolu girin.")
    exit()
else:
    print("Dosya yolu:", metin)
    # Dosyayı aç ve içeriğini oku
    # Dosya yolunu boşluklara göre ayır
    # ve kelimeleri liste olarak saklayıp sayısını yazdır
    words = metin.split()
    kelime_sayisi = len(words)
# Dosya okuma işlemi
print("Dosyalar başarıyla okundu ve analiz başladı.")

print(metin.count(","), "adet ',' bulundu.")
print(metin.count("."), "adet '.' bulundu.")
print(metin.count("?"), "adet '?' bulundu.")


# Kelime analizi sonucu
print("Kelime analizi sonucu:", kelime_sayisi, "kelime bulundu.")
print("Kelimeler şunlardır:", words)


print("--- Kapsamlı Birim Dönüştürücüye Hoş Geldiniz! ---")

while True:
    print("1.Çevrilmesini istediğiniz uzunluk ölçüsünü giriniz(km,m,cm,mm)")
    print("2.Çevilmesini istediğiniz sıcaklık ölçüsünü giriniz(celcius,fahrenheit,kelvin)")
    print("3.Çevrilmesini istediğiniz ağırlık ölçüsünü giriniz(kg,g,pound,ton)")
    print("4.Çevrilmesini istediğiniz hacim ölçüsünü giriniz(litre, mililitre,m3,cm3)")
    print("5.Çevrilmesini istediğiniz alan ölçüsünü giriniz(m2,km2,cm2,mm2,hektar)")
    print("6.Çıkış için 'q' giriniz.")

    secim = input("Lütfen bir seçenek giriniz (1-6): ")
    if secim == 'q':
        print("Çevirici kapatılıyor...")
        break
    elif secim == '1':
        while True:
            # Uzunluk ölçü birimleri için seçenekler
            print("Uzunluk Ölçü Birimleri Dönüştürücüsü")
            print("Lütfen dönüştürmek istediğiniz uzunluk ölçü birimini seçiniz:")
            # 1 km = 1000 m, 1 m = 100 cm, 1 cm = 10 mm
            # 1 m = 0.001 km, 1 cm = 0.01 m, 1 mm = 0.1 cm
            print("-------------------------------------------------")
            print("Seçenekler:")
            print("1. Kilometre (km) -> Metre (m)")
            print("2. Metre (m) -> Santimetre (cm)")
            print("3. Santimetre (cm) -> Milimetre (mm)")
            print("4. Milimetre (mm) -> Santimetre (cm)")
            print("5. santimetre (cm) -> metre (m)")
            print("6. Metre (m) -> Kilometre (km)")
            print("7. Çıkış için 'p' giriniz.")
            uzunluk_secim = input("Lütfen bir uzunluk ölçüsü seçiniz (1-7): ")
            if uzunluk_secim == 'p':
                print("Uzunluk ölçü birimi dönüştürücüsü kapatılıyor...")
                break
            if uzunluk_secim == '1':
                km = float(input("Kilometre cinsinden değeri giriniz: "))
                m = km * 1000
                print(f"{km} kilometre, {m} metreye eşittir.")
            elif uzunluk_secim == '2':
                m = float(input("Metre cinsinden değeri giriniz: "))
                cm = m * 100
                print(f"{m} metre, {cm} santimetreye eşittir.")
            elif uzunluk_secim == '3':
                cm = float(input("Santimetre cinsinden değeri giriniz: "))
                mm = cm * 10
                print(f"{cm} santimetre, {mm} milimetreye eşittir.")
            elif uzunluk_secim == '4':
                milimetre = float(input("Milimetre cinsinden değeri giriniz: "))
                cm = mm / 10
                print(f"{mm} milimetre, {cm} santimetreye eşittir.")
            elif uzunluk_secim == '5':
                santimetre = float(input("Santimetre cinsinden değeri giriniz: "))
                m = cm / 100
                print(f"{cm} santimetre, {m} metreye eşittir.")
            elif uzunluk_secim == '6':
                metre = float(input("Metre cinsinden değeri giriniz: "))
                km = m / 1000
                print(f"{m} metre, {km} kilometreye eşittir.")
    elif secim == '2':
        while True:
            # Sıcaklık ölçü birimleri için seçenekler
            print("Sıcaklık Ölçü Birimleri Dönüştürücüsü")
            print("Lütfen dönüştürmek istediğiniz sıcaklık ölçü birimini seçiniz:")
            # Celcius, Fahrenheit ve Kelvin arasındaki dönüşümler
            # 1 C = 33.8 F, 1 F = -17.22 C, 1 C = 273.15 K, 1 K = -273.15 C
            # 1 F = (C * 9/5) + 32, 1 C = (F - 32) * 5/9
            print("-------------------------------------------------")
            print("1. Celcius (C) -> Fahrenheit (F)")
            print("2. Fahrenheit (F) -> Celcius (C)")
            print("3. Celcius (C) -> Kelvin (K)")
            print("4. Kelvin (K) -> Celcius (C)")
            print("5. Fahrenheit (F) -> Kelvin (K)")
            print("6. Kelvin (K) -> Fahrenheit (F)")
            print("7. Çıkış için 'o' giriniz.")
            sicaklik_secim = input("Lütfen bir sıcaklık ölçüsü seçiniz (1-7): ")
            if sicaklik_secim == 'o':
                print("Sıcaklık ölçü birimi dönüştürücüsü kapatılıyor...")
                break
            if sicaklik_secim == '1':
                c = float(input("Celcius cinsinden değeri giriniz: "))
                f = (c * 9/5) + 32
                print(f"{c} Celcius, {f} Fahrenheit'a eşittir.")
            elif sicaklik_secim == '2':
                f = float(input("Fahrenheit cinsinden değeri giriniz: "))
                c = (f - 32) * 5/9
                print(f"{f} Fahrenheit, {c} Celcius'a eşittir.")
            elif sicaklik_secim == '3':
                c = float(input("Celcius cinsinden değeri giriniz: "))
                k = c + 273.15
                print(f"{c} Celcius, {k} Kelvin'e eşittir.")
            elif sicaklik_secim == '4':
                k = float(input("Kelvin cinsinden değeri giriniz: "))
                c = k - 273.15
                print(f"{k} Kelvin, {c} Celcius'a eşittir.")
            elif sicaklik_secim == '5':
                f = float(input("Fahrenheit cinsinden değeri giriniz: "))
                k = ((f - 32) * 5/9) + 273.15
                print(f"{f} Fahrenheit, {k} Kelvin'e eşittir.")
            elif sicaklik_secim == '6':
                k = float(input("Kelvin cinsinden değeri giriniz: "))
                f = ((k - 273.15) * 9/5) + 32
                print(f"{k} Kelvin, {f} Fahrenheit'a eşittir.")
    elif secim == '3':
        while True:
            # Ağırlık ölçü birimleri için seçenekler
            print("Ağırlık Ölçü Birimleri Dönüştürücüsü")
            print("Lütfen dönüştürmek istediğiniz ağırlık ölçü birimini seçiniz:")
            # 1 kg = 1000 g, 1 g = 0.001 kg, 1 kg = 2.20462 lb, 1 lb = 0.453592 kg
            # 1 kg = 0.001 t, 1 t = 1000 kg, 1 g = 0.00220462 lb, 1 lb = 453.592 g
            print("-------------------------------------------------")
            print("1. Kilogram (kg) -> Gram (g)")
            print("2. Gram (g) -> Kilogram (kg)")
            print("3. Kilogram (kg) -> Pound (lb)")
            print("4. Pound (lb) -> Kilogram (kg)")
            print("5. Kilogram (kg) -> Ton (t)")
            print("6. Ton (t) -> Kilogram (kg)")
            print("7. Gram (G) -> Pound (lb)")
            print("8. Pound (lb) -> Gram (g)")
            print("9. Gram (g) -> Ton (t)")
            print("10. Ton (t) -> Gram (g)")
            print("11. Çıkış için 'l' giriniz.")
            agirlik_secim = input("Lütfen bir ağırlık ölçüsü seçiniz (1-11): ")
            if agirlik_secim == '1':
                kg = float(input("Kilogram cinsinden değeri giriniz: "))
                g = kg * 1000
                print(f"{kg} kilogram, {g} grama eşittir.")
            elif agirlik_secim == '2':
                g = float(input("Gram cinsinden değeri giriniz: "))
                kg = g / 1000
                print(f"{g} gram, {kg} kilograma eşittir.")
            elif agirlik_secim == '3':
                kg = float(input("Kilogram cinsinden değeri giriniz: "))
                lb = kg * 2.20462
                print(f"{kg} kilogram, {lb} pound'a eşittir.")
            elif agirlik_secim == '4':
                lb = float(input("Pound cinsinden değeri giriniz: "))
                kg = lb / 2.20462
                print(f"{lb} pound, {kg} kilograma eşittir.")
            elif agirlik_secim == '5':
                kg = float(input("Kilogram cinsinden değeri giriniz: "))
                t = kg / 1000
                print(f"{kg} kilogram, {t} tona eşittir.")
            elif agirlik_secim == '6':
                t = float(input("Ton cinsinden değeri giriniz: "))
                kg = t * 1000
                print(f"{t} ton, {kg} kilograma eşittir.")
            elif agirlik_secim == '7':
                g = float(input("Gram cinsinden değeri giriniz: "))
                lb = g * 0.00220462
                print(f"{g} gram, {lb} pound'a eşittir.")
            elif agirlik_secim == '8':
                lb = float(input("Pound cinsinden değeri giriniz: "))
                g = lb * 453.592
                print(f"{lb} pound, {g} grama eşittir.")
            elif agirlik_secim == '9':
                g = float(input("Gram cinsinden değeri giriniz: "))
                t = g / 1000000
                print(f"{g} gram, {t} tona eşittir.")
            elif agirlik_secim == '10':
                t = float(input("Ton cinsinden değeri giriniz: "))
                g = t * 1000000
                print(f"{t} ton, {g} grama eşittir.")
            elif agirlik_secim == 'l':
                print("Ağırlık ölçü birimi dönüştürücüsü kapatılıyor...")
                break
    elif secim == '4':
        while True:
            # Hacim ölçü birimleri için seçenekler
            print("Hacim Ölçü Birimleri Dönüştürücüsü")
            print("Lütfen dönüştürmek istediğiniz hacim ölçü birimini seçiniz:")
            # 1 litre = 1000 mililitre, 1 mililitre = 0.001 litre, 1 m3 = 1000 litre, 1 cm3 = 0.001 litre
            # 1 litre = 1000 cm3, 1 m3 = 1000000 cm3
            print("-------------------------------------------------")
            print("1. Litre (L) -> Mililitre (mL)")
            print("2. Mililitre (mL) -> Litre (L)")
            print("3. Litre (L) -> Metreküp (m3)")
            print("4. Metreküp (m3) -> Litre (L)")
            print("5. Litre (L) -> Santimetreküp (cm3)")
            print("6. Santimetreküp (cm3) -> Litre (L)")
            print("7. Çıkış için 'k' giriniz.")
            hacim_secim = input("Lütfen bir hacim ölçüsü seçiniz (1-7): ")
            if hacim_secim == 'k':
                print("Hacim ölçü birimi dönüştürücüsü kapatılıyor...")
                break
            if hacim_secim == '1':
                litre = float(input("Litre cinsinden değeri giriniz: "))
                mililitre = litre * 1000
                print(f"{litre} litre, {mililitre} mililitreye eşittir.")
            elif hacim_secim == '2':
                mililitre = float(input("Mililitre cinsinden değeri giriniz: "))
                litre = mililitre / 1000
                print(f"{mililitre} mililitre, {litre} litreye eşittir.")
            elif hacim_secim == '3':
                litre = float(input("Litre cinsinden değeri giriniz: "))
                m3 = litre / 1000
                print(f"{litre} litre, {m3} metreküpe eşittir.")
            elif hacim_secim == '4':
                m3 = float(input("Metreküp cinsinden değeri giriniz: "))
                litre = m3 * 1000
                print(f"{m3} metreküp, {litre} litreye eşittir.")
            elif hacim_secim == '5':
                litre = float(input("Litre cinsinden değeri giriniz: "))
                cm3 = litre * 1000
                print(f"{litre} litre, {cm3} santimetreküpe eşittir.")
            elif hacim_secim == '6':
                cm3 = float(input("Santimetreküp cinsinden değeri giriniz: "))
                litre = cm3 / 1000
                print(f"{cm3} santimetreküp, {litre} litreye eşittir.")
            elif hacim_secim == 'k':
                print("Hacim ölçü birimi dönüştürücüsü kapatılıyor...")
                break
    elif secim == '5':
        while True:
            # Alan ölçü birimleri için seçenekler
            print("Alan Ölçü Birimleri Dönüştürücüsü")
            print("Lütfen dönüştürmek istediğiniz alan ölçü birimini seçiniz:")
            # 1 m2 = 10000 cm2, 1 cm2 = 0.0001 m2, 1 km2 = 1000000 m2, 1 hektar = 10000 m2
            # 1 m2 = 1000000 mm2, 1 mm2 = 0.000001 m2
            print("-------------------------------------------------")
            print("1. Metrekare (m2) -> Santimetrekare (cm2)")
            print("2. Santimetrekare (cm2) -> Metrekare (m2)")
            print("3. Kilometrekare (km2) -> Metrekare (m2)")
            print("4. Metrekare (m2) -> Kilometrekare (km2)")
            print("5. Hektar -> Metrekare (m2)")
            print("6. Metrekare (m2) -> Hektar")
            print("7. Milimetrekare (mm2) -> Metrekare (m2)")
            print("8. Metrekare (m2) -> Milimetrekare (mm2)")
            print("9. Çıkış için 'g' giriniz.")
            alan_secim = input("Lütfen bir alan ölçüsü seçiniz (1-9): ")
            if alan_secim == 'g':
                print("Alan ölçü birimi dönüştürücüsü kapatılıyor...")
                break
            if alan_secim == '1':
                m2 = float(input("Metrekare cinsinden değeri giriniz: "))
                cm2 = m2 * 10000
                print(f"{m2} metrekare, {cm2} santimetrekareye eşittir.")
            elif alan_secim == '2':
                cm2 = float(input("Santimetrekare cinsinden değeri giriniz: "))
                m2 = cm2 / 10000
                print(f"{cm2} santimetrekare, {m2} metrekareye eşittir.")
            elif alan_secim == '3':
                km2 = float(input("Kilometrekare cinsinden değeri giriniz: "))
                m2 = km2 * 1000000
                print(f"{km2} kilometrekare, {m2} metrekareye eşittir.")
            elif alan_secim == '4':
                m2 = float(input("Metrekare cinsinden değeri giriniz: "))
                km2 = m2 / 1000000
                print(f"{m2} metrekare, {km2} kilometrekareye eşittir.")
            elif alan_secim == '5':
                hektar = float(input("Hektar cinsinden değeri giriniz: "))
                m2 = hektar * 10000
                print(f"{hektar} hektar, {m2} metrekareye eşittir.")
            elif alan_secim == '6':
                m2 = float(input("Metrekare cinsinden değeri giriniz: "))
                hektar = m2 / 10000
                print(f"{m2} metrekare, {hektar} hektara eşittir.")
            elif alan_secim == '7':
                mm2 = float(input("Milimetrekare cinsinden değeri giriniz: "))
                m2 = mm2 / 1000000
                print(f"{mm2} milimetrekare, {m2} metrekareye eşittir.")
            elif alan_secim == '8':
                m2 = float(input("Metrekare cinsinden değeri giriniz: "))
                mm2 = m2 * 1000000
                print(f"{m2} metrekare, {mm2} milimetrekareye eşittir.")
            elif alan_secim == 'g':
                print("Alan ölçü birimi dönüştürücüsü kapatılıyor...")
                break
    else:
        print("Geçersiz seçim. Lütfen 1-6 arasında bir sayı giriniz.")

import random
import string

print("---Basit Şifre Oluşturucuya Hoşgeldiniz!---")

#Şifre uzunluğunu kullanıcıdan alalım.
#Şifre string olduğu için int'e çevirelim.

karakter_havuzu = ""

while True:
    try:
        sifre_uzunlugu = int(input("Lütfen şifrenizin uzunluğunu giriniz (6-20): "))
        if sifre_uzunlugu <= 0:
            print("Lütfen pozitif bir sayı giriniz.")
        else:
            break #Geçerli bir sayı girildiğinde döngüden çık.
    except ValueError:
        print("Lütfen geçerli bir sayı giriniz.")

print(f"Şifreniz {sifre_uzunlugu} karakter uzunluğunda olacak.")

#Karakter seti ve havuzunu oluşturalım.

karakter_seması = string.ascii_lowercase + string.digits

karakter_seması2 = string.ascii_uppercase + string.digits

karakter_seması3 = string.ascii_lowercase + string.ascii_uppercase + string.digits

karakter_seması4 = string.ascii_lowercase + string.ascii_uppercase + string.digits + string.punctuation

#Hangi karakter havuzunu isterseniz seçebilirsiniz.

while True:
    print("\nŞifreniz hangi karakter türlerini içersin? (Evet='e'/Hayır='h')")

    karakter_havuzu = ""  # Her döngüde karakter havuzunu sıfırlayalım.

    while True:
        buyuk_harf_secim = input("Büyük harf(A-Z)?(e-h): ").lower()
        if buyuk_harf_secim == 'e':
            karakter_havuzu += string.ascii_uppercase
            break
        elif buyuk_harf_secim == 'h':
            break
        else:
            print("Lütfen 'e' veya 'h' giriniz.")

    while True:
        kucuk_harf_secim = input("Küçük harf(a-z)?(e-h): ").lower()
        if kucuk_harf_secim == 'e':
            karakter_havuzu += string.ascii_lowercase
            break
        elif kucuk_harf_secim == 'h':
            break
        else:
            print("Lütfen 'e' veya 'h' giriniz.")

    while True:
       sayı_secim = input("Sayı(0-9)?(e-h): ").lower()
       if sayı_secim == 'e':
            karakter_havuzu += string.digits
            break
       elif sayı_secim == 'h':
            break
       else:
            print("Lütfen 'e' veya 'h' giriniz.")

    while True:
        ozel_karakter_secim = input("Özel karakter(!@#$%^&*()-_=+[]{}|;:,.<>?/~`)?(e-h): ").lower()
        if ozel_karakter_secim == 'e':
            karakter_havuzu += string.punctuation
            break
        elif ozel_karakter_secim == 'h':
            break
        else:
            print("Lütfen 'e' veya 'h' giriniz.")

    if karakter_havuzu == "":
        print("En az bir karakter türü seçmelisiniz.")
        continue
    else:
        break


#Şifreyi oluşturma kısmı
sifre_listesi = []
for _ in range(sifre_uzunlugu):
    sifre_listesi.append(random.choice(karakter_havuzu))
sifre = ''.join(sifre_listesi)
print(f"\nOluşturulan şifreniz: {sifre}")

#Kura Çekiliş Uygulaması
print("---Kura Çekilişi Uygulamasına Hoşgeldiniz!---")

#Kullanıcıdan isimler alır ve rastgele bir isim seçer
#Çekilişi kazanan belirlenir.
import random
names=[]
while True:
  print("----------------------------")
  print("1.Kura için isimleri gir")
  print("2.Kura isimlerini görüntüle")
  print("3.Çekilişi kazananı seç")
  print("4.Çıkış")
  print("----------------------------")
  try:
    choice=int(input("Seçmek istediğiniz işlemi giriniz: "))
    if choice not in [1,2,3,4]:
      print("Geçersiz seçim. Lütfen 1-4 arasında bir sayı giriniz.")
      continue
  except ValueError:
    print("Geçersiz seçim. Lütfen 1-4 arasında bir sayı giriniz.")
    continue

  if choice == 1:
    name_choice=str(input("Çekiliş için isim giriniz:"))
    if len(name_choice) > 1:
        name_choice=name_choice.lower()
        names.append(name_choice)
        print(names)
  if choice == 2:
    if len(names) <= 1:
      print("Henüz katılımcı yok")
    else:
      print("Katılımcı Listesi:")
      for name in names:
        print(name)

  if choice == 3:
    random.choice(names)
    print(f"Çekilişin Kazananı:{random.choice(names)}!")

  if choice == 4:
    print("Uygulamadan çıkıyorsunuz...")
    break

