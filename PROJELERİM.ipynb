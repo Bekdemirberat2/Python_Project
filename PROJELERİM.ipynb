{
  "cells": [
    {
      "cell_type": "code",
      "execution_count": null,
      "metadata": {
        "id": "Dv8GDtZg31vD",
        "colab": {
          "base_uri": "https://localhost:8080/"
        },
        "outputId": "a7a7ee94-5c6c-40cb-bf05-2c6d6d172684"
      },
      "outputs": [
        {
          "output_type": "stream",
          "name": "stdout",
          "text": [
            "Sayı Tahmin Oyununa Hoşgeldiniz\n",
            "1 ile 100 arasında bir sayı tahmin edin\n",
            "Tahmininiz doğruysa tebrikler, yanlışsa kalan hakkınızdan 1 eksilir\n",
            "Her yanlış tahminde 10 puan kaybedersiniz\n",
            "10 hakkınız var\n",
            "Bir sayı tahmin et: 50\n",
            "Tahmininiz doğru değil,daha küçük bir sayı deneyin\n",
            "Maalesef sayıyı yanlış bildiniz\n",
            "Kalan hakkınız: 9\n",
            "1 deneme yaptınız.\n",
            "Kalan Skorunuz:90\n",
            "Bir sayı tahmin et: 60\n",
            "Tahmininiz doğru değil,daha küçük bir sayı deneyin\n",
            "Maalesef sayıyı yanlış bildiniz\n",
            "Kalan hakkınız: 8\n",
            "2 deneme yaptınız.\n",
            "Kalan Skorunuz:80\n",
            "Bir sayı tahmin et: 55\n",
            "Tahmininiz doğru değil,daha küçük bir sayı deneyin\n",
            "Maalesef sayıyı yanlış bildiniz\n",
            "Kalan hakkınız: 7\n",
            "3 deneme yaptınız.\n",
            "Kalan Skorunuz:70\n",
            "Bir sayı tahmin et: 52\n",
            "Tahmininiz doğru değil,daha küçük bir sayı deneyin\n",
            "Maalesef sayıyı yanlış bildiniz\n",
            "Kalan hakkınız: 6\n",
            "4 deneme yaptınız.\n",
            "Kalan Skorunuz:60\n",
            "Bir sayı tahmin et: 51\n",
            "Tahmininiz doğru değil,daha küçük bir sayı deneyin\n",
            "Maalesef sayıyı yanlış bildiniz\n",
            "Kalan hakkınız: 5\n",
            "5 deneme yaptınız.\n",
            "Kalan Skorunuz:50\n",
            "Bir sayı tahmin et: 50\n",
            "Tahmininiz doğru değil,daha küçük bir sayı deneyin\n",
            "Maalesef sayıyı yanlış bildiniz\n",
            "Kalan hakkınız: 4\n",
            "6 deneme yaptınız.\n",
            "Kalan Skorunuz:40\n",
            "Bir sayı tahmin et: 40\n",
            "Tahmininiz doğru değil,daha büyük bir sayı deneyin\n",
            "Maalesef sayıyı yanlış bildiniz\n",
            "Kalan hakkınız: 3\n",
            "7 deneme yaptınız.\n",
            "Kalan Skorunuz:30\n",
            "Bir sayı tahmin et: 45\n",
            "Tahmininiz doğru değil,daha küçük bir sayı deneyin\n",
            "Maalesef sayıyı yanlış bildiniz\n",
            "Kalan hakkınız: 2\n",
            "8 deneme yaptınız.\n",
            "Kalan Skorunuz:20\n",
            "Bir sayı tahmin et: 42\n",
            "Tebrikler doğru bildiniz\n"
          ]
        }
      ],
      "source": [
        "#Sayı Tahmin Oyunu\n",
        "import random\n",
        "dogrunumara=random.randint(1,100)\n",
        "print(\"Sayı Tahmin Oyununa Hoşgeldiniz\")\n",
        "print(\"1 ile 100 arasında bir sayı tahmin edin\")\n",
        "print(\"Tahmininiz doğruysa tebrikler, yanlışsa kalan hakkınızdan 1 eksilir\")\n",
        "print(\"Her yanlış tahminde 10 puan kaybedersiniz\")\n",
        "print(\"10 hakkınız var\")\n",
        "\n",
        "hak=10\n",
        "deneme=0\n",
        "skor=100\n",
        "\n",
        "while(hak>0):\n",
        "  sayitahmin=int(input(\"Bir sayı tahmin et: \"))\n",
        "  if(sayitahmin<1 or sayitahmin>100):\n",
        "    print(\"Lütfen 1 ile 100 arasında bir sayı girin\")\n",
        "    continue\n",
        "  if(sayitahmin==dogrunumara):\n",
        "    print(\"Tebrikler doğru bildiniz\")\n",
        "    break\n",
        "  if(sayitahmin<dogrunumara):\n",
        "    print(\"Tahmininiz doğru değil,daha büyük bir sayı deneyin\")\n",
        "  if(sayitahmin>dogrunumara):\n",
        "    print(\"Tahmininiz doğru değil,daha küçük bir sayı deneyin\")\n",
        "  if(sayitahmin != dogrunumara):\n",
        "    print(\"Maalesef sayıyı yanlış bildiniz\")\n",
        "    hak-=1\n",
        "    deneme+=1\n",
        "    skor-=10\n",
        "    print(f\"Kalan hakkınız: {hak}\")\n",
        "    print(f\"{deneme} deneme yaptınız.\")\n",
        "    print(f\"Kalan Skorunuz:{skor}\")\n",
        "if(hak==0):\n",
        "   print(\"Hakkınız kalmadı, oyunu kaybettiniz\")\n",
        "   print(f\"Doğru sayı:{dogrunumara}\")\n",
        "\n",
        "\n"
      ]
    },
    {
      "cell_type": "code",
      "execution_count": 1,
      "metadata": {
        "colab": {
          "base_uri": "https://localhost:8080/"
        },
        "id": "4PTn5og29vw3",
        "outputId": "d3bb5366-0e16-4e33-bd94-a937999b4bc9"
      },
      "outputs": [
        {
          "output_type": "stream",
          "name": "stdout",
          "text": [
            "Birinci sayıyı girin: 6\n",
            "İkinci sayıyı girin: 7\n",
            "1. Toplama\n",
            "2. Çıkarma\n",
            "3. Çarpma\n",
            "4. Bölme\n",
            "5. Karekökünü alma\n",
            "6. Karesini alma\n",
            "7. Faktöriyel alma\n",
            "8. Kuvvetini alma\n",
            "9. Çıkış\n",
            "Yapmak istediğiniz işlemi seçin (1-9): 1\n",
            "6 7 toplamı:  13.0\n",
            "1. Toplama\n",
            "2. Çıkarma\n",
            "3. Çarpma\n",
            "4. Bölme\n",
            "5. Karekökünü alma\n",
            "6. Karesini alma\n",
            "7. Faktöriyel alma\n",
            "8. Kuvvetini alma\n",
            "9. Çıkış\n",
            "Yapmak istediğiniz işlemi seçin (1-9): 8\n",
            "6 7 kuvveti:  279936.0\n",
            "7 6 kuvveti:  117649.0\n",
            "1. Toplama\n",
            "2. Çıkarma\n",
            "3. Çarpma\n",
            "4. Bölme\n",
            "5. Karekökünü alma\n",
            "6. Karesini alma\n",
            "7. Faktöriyel alma\n",
            "8. Kuvvetini alma\n",
            "9. Çıkış\n",
            "Yapmak istediğiniz işlemi seçin (1-9): 9\n",
            "Çıkılıyor...\n"
          ]
        }
      ],
      "source": [
        "#Hesap Makinesi\n",
        "# Kullanıcıdan iki sayı ve işlem türünü alır\n",
        "# ve sonucu ekrana yazdırır.\n",
        "# Kullanıcıdan iki sayı alır\n",
        "from math import sqrt,factorial\n",
        "sayi1 = float(input(\"Birinci sayıyı girin: \"))\n",
        "sayi2 = float(input(\"İkinci sayıyı girin: \"))\n",
        "\n",
        "while(True):\n",
        "    print(\"1. Toplama\")\n",
        "    print(\"2. Çıkarma\")\n",
        "    print(\"3. Çarpma\")\n",
        "    print(\"4. Bölme\")\n",
        "    print(\"5. Karekökünü alma\")\n",
        "    print(\"6. Karesini alma\")\n",
        "    print(\"7. Faktöriyel alma\")\n",
        "    print(\"8. Kuvvetini alma\")\n",
        "    print(\"9. Çıkış\")\n",
        "    islem= input(\"Yapmak istediğiniz işlemi seçin (1-9): \")\n",
        "    if islem not in ['1','2','3','4','5','6','7','8','9']:\n",
        "        print(\"Geçersiz işlem. Lütfen 1-9 arasında bir sayı giriniz\")\n",
        "    if islem == '1':\n",
        "        sonuc = sayi1 + sayi2\n",
        "        print(int(sayi1),int(sayi2),\"toplamı: \", sonuc)\n",
        "    if islem == '2':\n",
        "        sonuc = sayi1 - sayi2\n",
        "        print(int(sayi1),int(sayi2),\"kalanı: \", sonuc)\n",
        "\n",
        "        sonuc2 = sayi2 - sayi1\n",
        "        print(int(sayi2),int(sayi1),\"kalanı: \", sonuc2)\n",
        "\n",
        "    if islem == '3':\n",
        "        sonuc = sayi1 * sayi2\n",
        "        print(int(sayi1),int(sayi2),\"çarpımı: \", sonuc)\n",
        "    if islem == '4':\n",
        "        if sayi2 != 0:\n",
        "            sonuc = sayi1 / sayi2\n",
        "            print(int(sayi1),int(sayi2),\"bölümü: \", sonuc)\n",
        "        else:\n",
        "            print(\"Bir sayıyı sıfıra bölemezsiniz.\")\n",
        "        if sayi1 != 0:\n",
        "            sonuc = sayi2 / sayi1\n",
        "            print(int(sayi2),int(sayi1),\"bölümü: \", sonuc)\n",
        "    if islem == '5':\n",
        "        if sayi1 >= 0:\n",
        "            sonuc = sqrt(sayi1)\n",
        "            print(int(sayi1),\"karekökü: \", sonuc)\n",
        "        if sayi2 >= 0:\n",
        "            sonuc = sqrt(sayi2)\n",
        "            print(int(sayi2),\"karekökü: \", sonuc)\n",
        "    if islem == '6':\n",
        "        if sayi1 >= 0:\n",
        "            sonuc = sayi1 ** 2\n",
        "            print(int(sayi1),\"karesi: \", sonuc)\n",
        "        if sayi2 >= 0:\n",
        "            sonuc = sayi2 ** 2\n",
        "            print(int(sayi2),\"karesi: \", sonuc)\n",
        "    if islem == '7':\n",
        "        if sayi1==0 or sayi1==1:\n",
        "            sonuc = 1\n",
        "        elif sayi1 < 0:\n",
        "            print(\"Negatif sayının faktöriyeli tanımsızdır.\")\n",
        "        else:\n",
        "            sonuc=factorial(int(sayi1))\n",
        "            print(int(sayi1),\"faktöriyeli: \",sonuc)\n",
        "        if sayi2==0 or sayi2==1:\n",
        "            sonuc = 1\n",
        "        elif sayi2 < 0:\n",
        "            print(\"Negatif sayının faktöriyeli tanımsızdır.\")\n",
        "        else:\n",
        "            sonuc = factorial(int(sayi2))\n",
        "            print(int(sayi2),\"faktöriyeli: \",sonuc)\n",
        "    if islem == '8':\n",
        "        sonuc=pow(sayi1, sayi2)\n",
        "        print(int(sayi1),int(sayi2),\"kuvveti: \", sonuc)\n",
        "\n",
        "        sonuc2=pow(sayi2, sayi1)\n",
        "        print(int(sayi2),int(sayi1),\"kuvveti: \", sonuc2)\n",
        "    if islem == '9':\n",
        "        print(\"Çıkılıyor...\")\n",
        "        break"
      ]
    },
    {
      "cell_type": "code",
      "execution_count": null,
      "metadata": {
        "id": "du1H3aODEhJZ",
        "colab": {
          "base_uri": "https://localhost:8080/"
        },
        "outputId": "32100f87-e34f-4f6a-9998-fc177f4c7097"
      },
      "outputs": [
        {
          "name": "stdout",
          "output_type": "stream",
          "text": [
            "1. Dolar-Tl\n",
            "2. Euro-Tl\n",
            "3. Sterlin-Tl\n",
            "4. Tl-Dolar\n",
            "5. Tl-Euro\n",
            "6. Tl-Sterlin\n",
            "7. Çıkış\n",
            "Miktarı girin: -1\n"
          ]
        }
      ],
      "source": [
        "#Döviz çevirisi\n",
        "#Kullanıcıdan bir değer alır.\n",
        "#Döviz karşılığını ekrana yazdırır.\n",
        "dolar_kuru=38.81\n",
        "euro_kuru=43.99\n",
        "sterlin_kuru=52.11\n",
        "tl_dolar=0.026\n",
        "tl_euro=0.023\n",
        "tl_sterlin=0.019\n",
        "while(True):\n",
        "    print(\"1. Dolar-Tl\")\n",
        "    print(\"2. Euro-Tl\")\n",
        "    print(\"3. Sterlin-Tl\")\n",
        "    print(\"4. Tl-Dolar\")\n",
        "    print(\"5. Tl-Euro\")\n",
        "    print(\"6. Tl-Sterlin\")\n",
        "    print(\"7. Çıkış\")\n",
        "    miktar=float(input(\"Miktarı girin: \"))\n",
        "    if miktar == -1:\n",
        "      break\n",
        "    if miktar==0:\n",
        "        print(\"Miktar sıfır olamaz.Lütfen tekrar deneyiniz.\")\n",
        "        continue\n",
        "    if miktar<-1:\n",
        "        print(\"Miktar negatif olamaz.Lütfen tekrar deneyiniz.\")\n",
        "        continue\n",
        "    islem= input(\"Yapmak istediğiniz işlemi seçin (1-7): \")\n",
        "    if islem not in ['1','2','3','4','5','6','7']:\n",
        "        print(\"Geçersiz işlem. Lütfen 1-7 arasında bir sayı giriniz\")\n",
        "    elif islem == \"1\":\n",
        "        sonuc=miktar*dolar_kuru\n",
        "        print(f\"{miktar} Dolar={sonuc} Tl\")\n",
        "    elif islem == \"2\":\n",
        "        sonuc=miktar*euro_kuru\n",
        "        print(f\"{miktar} Euro={sonuc} Tl\")\n",
        "    elif islem == \"3\":\n",
        "        sonuc=miktar*sterlin_kuru\n",
        "        print(f\"{miktar} Sterlin={sonuc} Tl\")\n",
        "    elif islem == \"4\":\n",
        "        sonuc=miktar*tl_dolar\n",
        "        print(f\"{miktar} Tl={sonuc} Dolar\")\n",
        "    elif islem == \"5\":\n",
        "        sonuc=miktar*tl_euro\n",
        "        print(f\"{miktar} Tl={sonuc} Euro\")\n",
        "    elif islem == \"6\":\n",
        "        sonuc=miktar*tl_sterlin\n",
        "        print(f\"{miktar} Tl={sonuc} Sterlin\")\n",
        "    elif islem == \"7\":\n",
        "        print(\"Çıkılıyor...\")\n",
        "        break\n",
        "\n",
        "\n",
        "\n",
        "\n"
      ]
    }
  ],
  "metadata": {
    "colab": {
      "provenance": []
    },
    "kernelspec": {
      "display_name": "Python 3",
      "name": "python3"
    },
    "language_info": {
      "name": "python"
    }
  },
  "nbformat": 4,
  "nbformat_minor": 0
}
#Basit Metin Analiz Aracı
print("Analiz edilecek metin dosyasının yolunu girin.")
# Kullanıcıdan dosya yolunu al
metin=input_file = input("Lütfen analiz edilecek metin dosyasının yolunu girin: ")
# Dosya yolunun boş olup olmadığını kontrol et
# Eğer boşsa, kullanıcıya hata mesajı göster
# ve programı sonlandır
if metin == "":
    print("Dosya yolu boş, lütfen geçerli bir dosya yolu girin.")
    exit()
else:
    print("Dosya yolu:", metin)
    # Dosyayı aç ve içeriğini oku
    # Dosya yolunu boşluklara göre ayır
    # ve kelimeleri liste olarak saklayıp sayısını yazdır
    words = metin.split()
    kelime_sayisi = len(words)
# Dosya okuma işlemi
print("Dosyalar başarıyla okundu ve analiz başladı.")

print(metin.count(","), "adet ',' bulundu.")
print(metin.count("."), "adet '.' bulundu.")
print(metin.count("?"), "adet '?' bulundu.")

#print(metin.count(" "), "adet '' bulundu.")
#print(metin.count(" "), "adet '' bulundu.")

  
#Kelime analizi sonucu
print("Kelime analizi sonucu:", kelime_sayisi, "kelime bulundu.")
print("Kelimeler şunlardır:", words)

#Mini Adam asmaca
kelime_listesi = ["Elma", "Armut", "Kiraz", "Muz", "Karpuz", "Çilek", "Vişne", "Üzüm", "Nar"]
import random
gizli_kelime=random.choice(kelime_listesi)
gizli_kelime = gizli_kelime.lower()
print("Gizli kelime:", gizli_kelime)
hak = 5
skor = 100
deneme = 0
doğru_tahminler = []
yanlış_tahminler = []
yanlış_kelime_tahminleri = []
print("Adam asmaca oyununa hoş geldiniz!")
print(f"Gizli kelimeyi tahmin edin. Toplam {hak} hakkınız var.")
print(f"Skorunuz: {skor}")

while hak > 0:
    while True:
        ("1.Seçenek: Harf tahmini")
        ("2.Seçenek: Kelime tahmini")   
        secim= input("Lütfen bir seçenek girin (1 veya 2): ")
        if secim == "1":
            tahmin = input("Bir harf tahmin edin: ").lower()
        if secim == "2":
            kelime_tahmin = input("Kelime tahmin edin: ").lower()
        if secim not in ["1", "2", "p"]:
            print("Geçersiz seçenek. Lütfen 1 veya 2 girin.")
            continue
        if secim == "1":
            if tahmin in gizli_kelime:
                print(f"'{tahmin}' harfi kelimede var!")
                doğru_tahminler.append(tahmin)
                print("Doğru Tahminleriniz:",doğru_tahminler)
                deneme += 1
                print(f"Deneme sayısı: {deneme}")
                if tahmin in doğru_tahminler:
                    print(f"'{tahmin}' harfi doğru tahminlerinizde var.")
                    continue  
            if tahmin not in gizli_kelime:
                print(f"'{tahmin}' harfi kelimede yok!")
                hak -= 1
                skor -= 20
                deneme += 1
                yanlış_tahminler.append(tahmin)
                print(f"Yanlış Tahminleriniz: {yanlış_tahminler}")
                print(f"Kalan hak: {hak}, Skor: {skor}")
                print(f"Deneme sayısı: {deneme}")
                if tahmin in yanlış_tahminler:
                    print(f"'{tahmin}' harfi zaten yanlış tahminlerinizde var.")       
                    continue
            if hak == 0:
                print("Haklarınız bitti! Oyun bitti.")
                print(f"Gizli kelime: {gizli_kelime}")
                exit()    
        if secim == "2":
            print("Kelime tahmini yapabilirsiniz.")
            if kelime_tahmin == gizli_kelime:
                print("Tebrikler! Kelimeyi doğru tahmin ettiniz!")
                exit()
            if kelime_tahmin != gizli_kelime:
                hak -= 1
                skor -= 20
                deneme += 1        
                yanlış_kelime_tahminleri.append(kelime_tahmin)
                print(f"Yanlış Kelime Tahminleriniz: {yanlış_kelime_tahminleri}")
                print(f"'{kelime_tahmin}' kelimesi yanlış! Kalan hak: {hak}, Skor: {skor}")
                print(f"Deneme sayısı: {deneme}")
                print(f"Kalan hak: {hak}, Skor: {skor}")
            if hak == 0:
                print("Haklarınız bitti! Oyun bitti.")
                print(f"Gizli kelime: {gizli_kelime}")
                exit()                  
        if secim == "p":
            print("Gizli kelime:", gizli_kelime)
            print("Oyundan çıkılıyor...")
            exit()
